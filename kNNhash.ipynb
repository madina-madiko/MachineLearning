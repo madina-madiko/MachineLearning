{
 "cells": [
  {
   "cell_type": "markdown",
   "metadata": {},
   "source": [
    "# Madina Tulegenova"
   ]
  },
  {
   "cell_type": "code",
   "execution_count": 10,
   "metadata": {
    "collapsed": true
   },
   "outputs": [],
   "source": [
    "import numpy as np\n",
    "import pandas as pd\n",
    "from sklearn.datasets import load_iris\n",
    "from functools import partial\n",
    "from random import random\n",
    "from sklearn.preprocessing import MinMaxScaler\n",
    "from collections import defaultdict\n",
    "from collections import Counter\n",
    "from scipy.spatial import distance"
   ]
  },
  {
   "cell_type": "markdown",
   "metadata": {},
   "source": [
    "## Iris dataset"
   ]
  },
  {
   "cell_type": "code",
   "execution_count": 11,
   "metadata": {},
   "outputs": [
    {
     "data": {
      "text/plain": [
       "(150, 4)"
      ]
     },
     "execution_count": 11,
     "metadata": {},
     "output_type": "execute_result"
    }
   ],
   "source": [
    "df = load_iris()\n",
    "df.data.shape"
   ]
  },
  {
   "cell_type": "code",
   "execution_count": 12,
   "metadata": {
    "collapsed": true
   },
   "outputs": [],
   "source": [
    "def f_hash(w,r,b,x):\n",
    "    return int((np.dot(w,x)+b)/r)"
   ]
  },
  {
   "cell_type": "markdown",
   "metadata": {},
   "source": [
    "* https://docs.python.org/2/library/functools.html Here you can read about \"partial\"\n",
    "* http://scikit-learn.org/stable/modules/generated/sklearn.preprocessing.MinMaxScaler.html About mapping to [0,1]"
   ]
  },
  {
   "cell_type": "code",
   "execution_count": 26,
   "metadata": {
    "collapsed": true
   },
   "outputs": [],
   "source": [
    "class KNNHash(object):\n",
    "    def __init__(s,m,L,nn):\n",
    "        s.m = m\n",
    "        s.L = L\n",
    "        s.nn = nn\n",
    "    def fit(s,X,y):\n",
    "        s.t_hh = [] #hash table\n",
    "        for j in range(s.L):\n",
    "            f_hh = [] #compositional hash function\n",
    "            for i in range(s.m):\n",
    "                w = np.random.rand(1,X[0].shape[0]) #  weights of a hash function\n",
    "                f_hh.append(partial(f_hash,w = w,r=random(),b=random())) # list of initialized hash function\n",
    "            s.t_hh.append(\n",
    "                (defaultdict(list),f_hh)\n",
    "            )\n",
    "        for n in range(X.shape[0]): \n",
    "            for j in range(s.L):\n",
    "                ind = 0\n",
    "                for i in range(s.m):\n",
    "                    ind = ind + s.t_hh[j][1][i](x=X[n]) #calculation of index in hash table, simply sum of all hash func\n",
    "                s.t_hh[j][0][ind].append((X[n],y[n])) #saving sample into corresponding index    \n",
    "    def predict(s,u):        \n",
    "        distClosest = 0\n",
    "        distArray = []        \n",
    "        for j in range(s.L):\n",
    "            inds = []\n",
    "            for i in range(s.m):\n",
    "                inds.append(s.t_hh[j][1][i](x=u))\n",
    "            cntr = Counter([outp for inpt,outp in s.t_hh[j][0][sum(inds)]])\n",
    "            print(cntr)\n",
    "            \n",
    "            #my peace of code\n",
    "            for k in range(len(s.t_hh[j][0][sum(inds)])):\n",
    "                distArray.append(distance.euclidean(u,s.t_hh[j][0][sum(inds)][k][0])) #finding the euclidean distance and adding it to new array\n",
    "        distClosest = max(distArray) #identify the maximum distance in the array\n",
    "        print(\"closest dist: \", distClosest)"
   ]
  },
  {
   "cell_type": "code",
   "execution_count": 27,
   "metadata": {},
   "outputs": [],
   "source": [
    "scaler = MinMaxScaler()\n",
    "scaler.fit(df.data)\n",
    "x = scaler.transform(df.data)\n",
    "y = df.target"
   ]
  },
  {
   "cell_type": "code",
   "execution_count": 28,
   "metadata": {},
   "outputs": [
    {
     "name": "stdout",
     "output_type": "stream",
     "text": [
      "0\n",
      "Counter({0: 13})\n",
      "Counter({0: 31, 1: 4})\n",
      "Counter({0: 23})\n",
      "Counter({0: 38, 1: 1})\n",
      "closest dist:  0.7932184122039291\n",
      "-------------\n",
      "1\n",
      "Counter({1: 9, 2: 2})\n",
      "Counter({1: 12, 2: 3})\n",
      "Counter({1: 11, 2: 9})\n",
      "Counter({2: 33, 1: 10})\n",
      "closest dist:  0.553336221927024\n",
      "-------------\n",
      "2\n",
      "Counter({1: 5, 2: 3})\n",
      "Counter({2: 13, 1: 6})\n",
      "Counter({1: 8, 2: 2})\n",
      "Counter({1: 29, 2: 9, 0: 1})\n",
      "closest dist:  1.0275936860924342\n"
     ]
    }
   ],
   "source": [
    "knnhash = KNNHash(4,4,4)\n",
    "testing1x = x[0]\n",
    "testing2x = x[75]\n",
    "testing3x = x[149]\n",
    "\n",
    "testing1y = y[0]\n",
    "testing2y = y[75]\n",
    "testing3y = y[149]\n",
    "x = np.delete(x,[0,75,149],axis=0)\n",
    "y = np.delete(y,[0,75,149],axis=0)\n",
    "\n",
    "knnhash.fit(x,y)\n",
    "print(testing1y)\n",
    "knnhash.predict(testing1x)\n",
    "print(\"-------------\")\n",
    "print(testing2y)\n",
    "knnhash.predict(testing2x)\n",
    "print(\"-------------\")\n",
    "print(testing3y)\n",
    "knnhash.predict(testing3x)"
   ]
  },
  {
   "cell_type": "markdown",
   "metadata": {},
   "source": [
    "* Each string above corresponds to the particular hash table. And index in counter maps to the class. For example Counter({0: 13, 1: 1}) means that there are 13 samples close to \"u\" with \"0\" class labels and 1 sample with \"1\" class label."
   ]
  },
  {
   "cell_type": "code",
   "execution_count": null,
   "metadata": {
    "collapsed": true
   },
   "outputs": [],
   "source": []
  }
 ],
 "metadata": {
  "anaconda-cloud": {},
  "kernelspec": {
   "display_name": "Python 3",
   "language": "python",
   "name": "python3"
  },
  "language_info": {
   "codemirror_mode": {
    "name": "ipython",
    "version": 3
   },
   "file_extension": ".py",
   "mimetype": "text/x-python",
   "name": "python",
   "nbconvert_exporter": "python",
   "pygments_lexer": "ipython3",
   "version": "3.6.1"
  }
 },
 "nbformat": 4,
 "nbformat_minor": 2
}
